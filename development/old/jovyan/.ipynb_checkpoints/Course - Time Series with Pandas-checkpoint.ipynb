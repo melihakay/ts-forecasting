{
 "cells": [
  {
   "cell_type": "code",
   "execution_count": 18,
   "id": "ba59a953-1742-4122-95c6-1650dbdbe9a0",
   "metadata": {},
   "outputs": [],
   "source": [
    "from datetime import datetime\n",
    "import numpy as np\n",
    "import pandas as pd"
   ]
  },
  {
   "cell_type": "code",
   "execution_count": 2,
   "id": "4a07b4b8-c6d1-4e57-8368-de2045cc7bed",
   "metadata": {},
   "outputs": [],
   "source": [
    "my_year = 2020\n",
    "my_month = 1\n",
    "my_day = 2\n",
    "my_hour = 13\n",
    "my_min = 30\n",
    "my_sec = 15"
   ]
  },
  {
   "cell_type": "code",
   "execution_count": 6,
   "id": "97fc2353-1e8c-4755-a11d-e0b7ca967483",
   "metadata": {},
   "outputs": [],
   "source": [
    "object = datetime(my_year, my_month, my_day, my_hour, my_min, my_sec)"
   ]
  },
  {
   "cell_type": "code",
   "execution_count": 7,
   "id": "4cd0e76e-c1a4-4ef6-b2f9-5ec81cd75a25",
   "metadata": {},
   "outputs": [
    {
     "data": {
      "text/plain": [
       "datetime.datetime(2020, 1, 2, 13, 30, 15)"
      ]
     },
     "execution_count": 7,
     "metadata": {},
     "output_type": "execute_result"
    }
   ],
   "source": [
    "object"
   ]
  },
  {
   "cell_type": "code",
   "execution_count": 11,
   "id": "edd3c644-3fa5-4862-9bab-e8741dca130a",
   "metadata": {},
   "outputs": [
    {
     "data": {
      "text/plain": [
       "3"
      ]
     },
     "execution_count": 11,
     "metadata": {},
     "output_type": "execute_result"
    }
   ],
   "source": [
    "object.weekday()"
   ]
  },
  {
   "cell_type": "code",
   "execution_count": 14,
   "id": "6a4dc4c8-aabb-4c48-93dc-cccc557c12a9",
   "metadata": {},
   "outputs": [
    {
     "data": {
      "text/plain": [
       "array(['2020-03-15', '2020-03-16', '2020-03-17'], dtype='datetime64[D]')"
      ]
     },
     "execution_count": 14,
     "metadata": {},
     "output_type": "execute_result"
    }
   ],
   "source": [
    "np.array([\"2020-03-15\", \"2020-03-16\", \"2020-03-17\"], dtype=\"datetime64\")"
   ]
  },
  {
   "cell_type": "code",
   "execution_count": 17,
   "id": "35c4467b-1a71-437e-95fa-2a857bcd56c6",
   "metadata": {},
   "outputs": [
    {
     "data": {
      "text/plain": [
       "array(['2020-06-01', '2020-06-08', '2020-06-15', '2020-06-22',\n",
       "       '2020-06-29', '2020-07-06', '2020-07-13', '2020-07-20',\n",
       "       '2020-07-27', '2020-08-03', '2020-08-10', '2020-08-17',\n",
       "       '2020-08-24', '2020-08-31', '2020-09-07', '2020-09-14',\n",
       "       '2020-09-21', '2020-09-28', '2020-10-05', '2020-10-12',\n",
       "       '2020-10-19', '2020-10-26', '2020-11-02', '2020-11-09',\n",
       "       '2020-11-16', '2020-11-23', '2020-11-30', '2020-12-07',\n",
       "       '2020-12-14', '2020-12-21', '2020-12-28', '2021-01-04',\n",
       "       '2021-01-11', '2021-01-18', '2021-01-25', '2021-02-01',\n",
       "       '2021-02-08', '2021-02-15', '2021-02-22', '2021-03-01',\n",
       "       '2021-03-08', '2021-03-15', '2021-03-22', '2021-03-29',\n",
       "       '2021-04-05', '2021-04-12', '2021-04-19', '2021-04-26',\n",
       "       '2021-05-03', '2021-05-10', '2021-05-17', '2021-05-24',\n",
       "       '2021-05-31'], dtype='datetime64[D]')"
      ]
     },
     "execution_count": 17,
     "metadata": {},
     "output_type": "execute_result"
    }
   ],
   "source": [
    "np.arange(\"2020-06-01\", \"2021-06-01\", 7, dtype=\"datetime64[D]\")"
   ]
  },
  {
   "cell_type": "code",
   "execution_count": 19,
   "id": "75ffc2ec-1065-4eeb-9ae9-44a25711ed0d",
   "metadata": {},
   "outputs": [
    {
     "data": {
      "text/plain": [
       "DatetimeIndex(['2020-01-01', '2020-01-02', '2020-01-03', '2020-01-04',\n",
       "               '2020-01-05', '2020-01-06', '2020-01-07'],\n",
       "              dtype='datetime64[ns]', freq='D')"
      ]
     },
     "execution_count": 19,
     "metadata": {},
     "output_type": "execute_result"
    }
   ],
   "source": [
    "pd.date_range(\"2020-01-01\", periods=7, freq=\"D\")"
   ]
  }
 ],
 "metadata": {
  "kernelspec": {
   "display_name": "Python 3 (ipykernel)",
   "language": "python",
   "name": "python3"
  },
  "language_info": {
   "codemirror_mode": {
    "name": "ipython",
    "version": 3
   },
   "file_extension": ".py",
   "mimetype": "text/x-python",
   "name": "python",
   "nbconvert_exporter": "python",
   "pygments_lexer": "ipython3",
   "version": "3.11.7"
  }
 },
 "nbformat": 4,
 "nbformat_minor": 5
}
